{
 "cells": [
  {
   "cell_type": "markdown",
   "metadata": {},
   "source": [
    "### <font><font color=\"#2894FF\">import</font>"
   ]
  },
  {
   "cell_type": "code",
   "execution_count": 23,
   "metadata": {},
   "outputs": [],
   "source": [
    "import requests\n",
    "import time\n",
    "from bs4 import BeautifulSoup\n",
    "url=\"https://udn.com/rank/pv/2/7227/1\"\n",
    "html = requests.get(url)\n",
    "sp = BeautifulSoup(html.text,\"html.parser\")"
   ]
  },
  {
   "cell_type": "markdown",
   "metadata": {},
   "source": [
    "### <font><font color=\"#2894FF\">爬標題</font>"
   ]
  },
  {
   "cell_type": "code",
   "execution_count": 24,
   "metadata": {},
   "outputs": [],
   "source": [
    "header = []"
   ]
  },
  {
   "cell_type": "code",
   "execution_count": 25,
   "metadata": {},
   "outputs": [],
   "source": [
    "numheader = sp.select(\"div.story-list__text h2 a\")\n",
    "for i in numheader:\n",
    "    #header.append(sp.select(\"div.story-list__text h2 a\")[i]['title'])\n",
    "    data = i\n",
    "    header.append(data.text)\n",
    "    #print(data)"
   ]
  },
  {
   "cell_type": "code",
   "execution_count": 26,
   "metadata": {},
   "outputs": [
    {
     "data": {
      "text/plain": [
       "['日職／陳俊秀要日本投手小心 王柏融打出來就很危險',\n",
       " '再會了普荷斯！大聯盟神獸默默退役下場猶如中職張泰山',\n",
       " 'NBA／得分王幾乎到手 柯瑞有「魔術數字」',\n",
       " '中職／獅隊瘋狂59盜獨走 曾豪駒推算9棒有7個可跑',\n",
       " '日職／最強金牌王vs.軟銀雙冠王 日媒將王柏融列觀賽重點',\n",
       " '中職／悍將近6戰苦吞5敗 快被墊底龍隊逼近了',\n",
       " 'MLB／大谷翔平創多項超狂里程碑 美媒驚嘆「前所未見」',\n",
       " '柯瑞打出生涯顛峰 勇士展開奇蹟之旅',\n",
       " '中職／龍獅戰打到一半斷電 聯盟宣布比賽延期',\n",
       " 'NBA／轉正托斯卡諾安德森 勇士簽回小裴頓完成滿編',\n",
       " '中職／王柏融火力大爆發 曾豪駒：修正軌跡出棒直接',\n",
       " '中職／疫情衝擊尋找新洋將 曾豪駒希望日職姐妹隊推薦',\n",
       " '中職／兄弟大物余謙第2場先發 奪勝將改寫中職紀錄',\n",
       " '中職／統一獅戰味全龍卻遇大停電 蘇泰安無奈：曾向聯盟反映',\n",
       " 'MLB／接種疫苗洋基還8人中鏢！托瑞斯確診 大聯盟要查',\n",
       " 'NBA／熱火宰安比德歸隊76人 海斯倫首秀3分鐘遭驅逐',\n",
       " '巴特勒重啟神級模式 熱火跳出傷兵漩渦再扮大黑馬',\n",
       " '中職／龍獅戰因斷電腰斬 蔡其昌坦承錯誤「責無旁貸」',\n",
       " 'NBA／里拉德猛轟41分作白工 布克致勝罰球率太陽逆轉',\n",
       " 'NBA／灰熊驚險逆轉拿下國王 與勇士爭第8精彩可期']"
      ]
     },
     "execution_count": 26,
     "metadata": {},
     "output_type": "execute_result"
    }
   ],
   "source": [
    "header"
   ]
  },
  {
   "cell_type": "code",
   "execution_count": 27,
   "metadata": {},
   "outputs": [
    {
     "data": {
      "text/plain": [
       "20"
      ]
     },
     "execution_count": 27,
     "metadata": {},
     "output_type": "execute_result"
    }
   ],
   "source": [
    "len(header)"
   ]
  },
  {
   "cell_type": "markdown",
   "metadata": {},
   "source": [
    "### <font><font color=\"#2894FF\">爬摘要</font>"
   ]
  },
  {
   "cell_type": "code",
   "execution_count": 28,
   "metadata": {},
   "outputs": [],
   "source": [
    "abstract = []"
   ]
  },
  {
   "cell_type": "code",
   "execution_count": 29,
   "metadata": {},
   "outputs": [],
   "source": [
    "numabstract = sp.select(\"div.story-list__text p\")\n",
    "for i in numabstract:\n",
    "    #data2=sp.select(\"div.story-list__text p\")[i]\n",
    "    data2=i\n",
    "    abstract.append(data2.text)    \n"
   ]
  },
  {
   "cell_type": "code",
   "execution_count": 30,
   "metadata": {},
   "outputs": [
    {
     "data": {
      "text/plain": [
       "['旅日好手王柏融登上一軍大爆發，目前出賽8場，22個打數揮出10支安打，包括1支全壘打、6支二壘打，樂天桃猿隊重砲陳俊秀說...',\n",
       " '千禧世代的超級強打普荷斯(Albert Pujols)退役了！\\r\\n\\r\\n\\r\\n有別於同一世代大腕級球星，例如：洋基隊長基特(Derek Jeter)、魔球投手李維拉(Mariano Rivera)與紅襪強',\n",
       " '巫師隊明星後衛比爾（Bradley Beal）和勇士隊當家球星柯瑞（Stephen Curry） 的得分王之爭，成本季例...',\n",
       " '統一獅隊開季至今瘋狂盜壘，40場比賽出現59盜，在中職5隊遙遙領先，樂天桃猿隊足足落後35盜，教頭曾豪駒觀察獅隊先發打線...',\n",
       " '處於合約最後1年的日本火腿隊台灣好手王柏融，本季迎來打擊大爆發，打擊率至今仍保持「4割」的4成55，10支安打當中有7支為長打，包含前役面對歐力士猛牛王牌山本由伸敲出本季首轟。休兵一天之後，今(14)',\n",
       " '樂天桃猿隊今天繼續在桃園球場對決富邦悍將隊，7局下靠林立、陳晨威兩支關鍵安打攻下3分，終場7：4獲勝，也讓悍將吞下3連敗...',\n",
       " '結束了去年難堪的賽季後，大谷翔平本季重啟「二刀流」身分，並在投打兩端都有突出表現，天使官網記者包林格(Rhett Bollinger)也撰文，條列幾項本季大谷翔平達成的里程碑，大讚這位日籍二刀流的開季',\n",
       " '最近七戰6勝1敗，過去18戰13勝5敗，排名西區第八金州勇士確定取得季後賽附加賽資格。勇士後衛「咖哩」柯瑞四月分迄今場均37.3分、6.1籃板、4.6助攻，投籃命中率5成18，三分球命中率4成66，每',\n",
       " '今日台南球場統一獅隊與味全龍隊之戰，賽前即因分區限電關係，導致比賽延後至6點55分開打，賽前兩隊教練團擔心的事果然發生，...',\n",
       " '日前《The Athletic》記者查拉尼亞（Shams Charania）透露，勇士計畫轉正領雙向合約的托斯卡諾安德森（Juan Toscano-Anderson），其空出的雙向合約會由老同學貝爾（',\n",
       " '日本火腿隊台將王柏融打擊超熱，樂天桃猿隊的老隊友也都很關心，總教練曾豪駒表示，看得出來王柏融有修正揮棒軌跡，去年「繞得有...',\n",
       " '國內疫情升級，可能衝擊中職各隊再找新洋將，樂天桃猿隊總教練曾豪駒坦言，將會變得更難找，球隊和日職樂天隊算是姐妹隊，雙方有...',\n",
       " '中信兄弟隊菜鳥投手余謙在生涯初先發登板即拿下勝投，改寫中職最年輕紀錄，今晚先發出戰味全龍隊，余謙若能在生涯前2場奪2勝，...',\n",
       " '今天中華職棒統一獅與味全龍之戰在台南棒球場舉行，結果比賽不到20分鐘卻遇上大停電，賽事只好被迫暫停。統一獅領隊蘇泰安表示...',\n",
       " '近期走出谷底的洋基，戰績正當起飛之時，今(14)日卻傳出當家游擊手托瑞斯（Gleyber Torres）等8名隊職員確診新冠肺炎，洋基官方也宣布將協助接受隔離，不過上述8人先前曾接種疫苗卻還是二度中鏢',\n",
       " '安比德（Joel Embiid）今（14）日雖歸隊，卻沒有當上76人與熱火的主角，風頭反倒被本季初登板的老將海斯倫（Udonis Haslem）搶走，他上場3分鐘竟就遭驅逐出場，而熱火一路大幅領先下，',\n",
       " '上賽季一路跌破外界眼鏡闖進總冠軍賽的邁阿密熱火，本季卻輪流遭遇傷兵潮，以及受疫情的健康協議影響，大半球季時間，主力輪值無法以完整陣容磨合。而時常缺角的陣容也導致熱火前半段戰績受到影響，打起來完全不像去',\n",
       " '昨日在台南棒球場的統一獅隊與中信兄弟隊之戰，因電力不穩，賽前發生首次斷電，兩隊建議延賽，聯盟堅持開打後，比賽中發生第二次...',\n",
       " '太陽與拓荒者都正在處於激烈的季後賽種子卡位戰，前者還有一絲機會追上爵士登頂西區，後者則與獨行俠要爭西區第5，今（14）日交手也殺得難分難解，最終布克（Devin Booker）展現大心臟，致勝罰球立功',\n",
       " '灰熊目前戰績緊咬勇士，在西區加賽卡位戰中要搶第8位子，這攸關球隊是輸一場就遭淘汰，還是有2次機會拚勝爭晉級資格，而今（14）日面對國王險些踢到鐵板，所幸靠最後12比0攻勢，終場才以116比110驚險勝']"
      ]
     },
     "execution_count": 30,
     "metadata": {},
     "output_type": "execute_result"
    }
   ],
   "source": [
    "abstract"
   ]
  },
  {
   "cell_type": "code",
   "execution_count": 31,
   "metadata": {},
   "outputs": [
    {
     "data": {
      "text/plain": [
       "20"
      ]
     },
     "execution_count": 31,
     "metadata": {},
     "output_type": "execute_result"
    }
   ],
   "source": [
    "len(abstract)"
   ]
  },
  {
   "cell_type": "markdown",
   "metadata": {},
   "source": [
    "### <font><font color=\"#2894FF\">爬觀看數</font>"
   ]
  },
  {
   "cell_type": "code",
   "execution_count": 32,
   "metadata": {},
   "outputs": [],
   "source": [
    "read=[]"
   ]
  },
  {
   "cell_type": "code",
   "execution_count": 33,
   "metadata": {},
   "outputs": [],
   "source": [
    "numread = sp.select(\"div.story-list__text div span\")\n",
    "for i in numread:\n",
    "    #data3=sp.select(\"div.story-list__text div span\")[i]\n",
    "    data3=i\n",
    "    read.append(data3.text)    "
   ]
  },
  {
   "cell_type": "code",
   "execution_count": 34,
   "metadata": {},
   "outputs": [
    {
     "data": {
      "text/plain": [
       "['22009',\n",
       " '16664',\n",
       " '14355',\n",
       " '14084',\n",
       " '7585',\n",
       " '7192',\n",
       " '6710',\n",
       " '6580',\n",
       " '6463',\n",
       " '6345',\n",
       " '6077',\n",
       " '5084',\n",
       " '5037',\n",
       " '4933',\n",
       " '4897',\n",
       " '4855',\n",
       " '4043',\n",
       " '3940',\n",
       " '3857',\n",
       " '3609']"
      ]
     },
     "execution_count": 34,
     "metadata": {},
     "output_type": "execute_result"
    }
   ],
   "source": [
    "read"
   ]
  },
  {
   "cell_type": "markdown",
   "metadata": {},
   "source": [
    "### <font><font color=\"#2894FF\">爬時間</font>"
   ]
  },
  {
   "cell_type": "code",
   "execution_count": 35,
   "metadata": {},
   "outputs": [],
   "source": [
    "pubtime = []"
   ]
  },
  {
   "cell_type": "code",
   "execution_count": 36,
   "metadata": {},
   "outputs": [],
   "source": [
    "#爬時間\n",
    "numtime = sp.select(\"div.story-list__text div time\")\n",
    "for i in numtime:\n",
    "    #data4=sp.select(\"div.story-list__text  div time\")[i]\n",
    "    data4=i\n",
    "    pubtime.append(data4.text) "
   ]
  },
  {
   "cell_type": "code",
   "execution_count": 37,
   "metadata": {},
   "outputs": [
    {
     "data": {
      "text/plain": [
       "['2021-05-13 17:21',\n",
       " '2021-05-14 07:00',\n",
       " '2021-05-13 17:29',\n",
       " '2021-05-13 18:37',\n",
       " '2021-05-14 12:36',\n",
       " '2021-05-13 22:02',\n",
       " '2021-05-14 14:52',\n",
       " '2021-05-14 07:00',\n",
       " '2021-05-13 19:43',\n",
       " '2021-05-14 10:13',\n",
       " '2021-05-13 17:45',\n",
       " '2021-05-13 19:10',\n",
       " '2021-05-14 10:49',\n",
       " '2021-05-13 20:10',\n",
       " '2021-05-14 11:46',\n",
       " '2021-05-14 11:14',\n",
       " '2021-05-14 07:00',\n",
       " '2021-05-14 12:40',\n",
       " '2021-05-14 14:41',\n",
       " '2021-05-14 12:59']"
      ]
     },
     "execution_count": 37,
     "metadata": {},
     "output_type": "execute_result"
    }
   ],
   "source": [
    "pubtime"
   ]
  },
  {
   "cell_type": "markdown",
   "metadata": {},
   "source": [
    "### <font><font color=\"#2894FF\">合併欄位</font>"
   ]
  },
  {
   "cell_type": "code",
   "execution_count": 38,
   "metadata": {},
   "outputs": [],
   "source": [
    "from pandas import DataFrame\n",
    "c={\"標題\" : header,\"摘要\" : abstract,\"觀看數\" : read,\"時間\" : pubtime}\n",
    "datas = DataFrame(c)\n"
   ]
  },
  {
   "cell_type": "code",
   "execution_count": 39,
   "metadata": {},
   "outputs": [
    {
     "data": {
      "text/html": [
       "<div>\n",
       "<style scoped>\n",
       "    .dataframe tbody tr th:only-of-type {\n",
       "        vertical-align: middle;\n",
       "    }\n",
       "\n",
       "    .dataframe tbody tr th {\n",
       "        vertical-align: top;\n",
       "    }\n",
       "\n",
       "    .dataframe thead th {\n",
       "        text-align: right;\n",
       "    }\n",
       "</style>\n",
       "<table border=\"1\" class=\"dataframe\">\n",
       "  <thead>\n",
       "    <tr style=\"text-align: right;\">\n",
       "      <th></th>\n",
       "      <th>標題</th>\n",
       "      <th>摘要</th>\n",
       "      <th>觀看數</th>\n",
       "      <th>時間</th>\n",
       "    </tr>\n",
       "  </thead>\n",
       "  <tbody>\n",
       "    <tr>\n",
       "      <th>0</th>\n",
       "      <td>日職／陳俊秀要日本投手小心 王柏融打出來就很危險</td>\n",
       "      <td>旅日好手王柏融登上一軍大爆發，目前出賽8場，22個打數揮出10支安打，包括1支全壘打、6支二...</td>\n",
       "      <td>22009</td>\n",
       "      <td>2021-05-13 17:21</td>\n",
       "    </tr>\n",
       "    <tr>\n",
       "      <th>1</th>\n",
       "      <td>再會了普荷斯！大聯盟神獸默默退役下場猶如中職張泰山</td>\n",
       "      <td>千禧世代的超級強打普荷斯(Albert Pujols)退役了！\\r\\n\\r\\n\\r\\n有別於...</td>\n",
       "      <td>16664</td>\n",
       "      <td>2021-05-14 07:00</td>\n",
       "    </tr>\n",
       "    <tr>\n",
       "      <th>2</th>\n",
       "      <td>NBA／得分王幾乎到手 柯瑞有「魔術數字」</td>\n",
       "      <td>巫師隊明星後衛比爾（Bradley Beal）和勇士隊當家球星柯瑞（Stephen Curr...</td>\n",
       "      <td>14355</td>\n",
       "      <td>2021-05-13 17:29</td>\n",
       "    </tr>\n",
       "    <tr>\n",
       "      <th>3</th>\n",
       "      <td>中職／獅隊瘋狂59盜獨走 曾豪駒推算9棒有7個可跑</td>\n",
       "      <td>統一獅隊開季至今瘋狂盜壘，40場比賽出現59盜，在中職5隊遙遙領先，樂天桃猿隊足足落後35盜...</td>\n",
       "      <td>14084</td>\n",
       "      <td>2021-05-13 18:37</td>\n",
       "    </tr>\n",
       "    <tr>\n",
       "      <th>4</th>\n",
       "      <td>日職／最強金牌王vs.軟銀雙冠王 日媒將王柏融列觀賽重點</td>\n",
       "      <td>處於合約最後1年的日本火腿隊台灣好手王柏融，本季迎來打擊大爆發，打擊率至今仍保持「4割」的4...</td>\n",
       "      <td>7585</td>\n",
       "      <td>2021-05-14 12:36</td>\n",
       "    </tr>\n",
       "    <tr>\n",
       "      <th>5</th>\n",
       "      <td>中職／悍將近6戰苦吞5敗 快被墊底龍隊逼近了</td>\n",
       "      <td>樂天桃猿隊今天繼續在桃園球場對決富邦悍將隊，7局下靠林立、陳晨威兩支關鍵安打攻下3分，終場7...</td>\n",
       "      <td>7192</td>\n",
       "      <td>2021-05-13 22:02</td>\n",
       "    </tr>\n",
       "    <tr>\n",
       "      <th>6</th>\n",
       "      <td>MLB／大谷翔平創多項超狂里程碑 美媒驚嘆「前所未見」</td>\n",
       "      <td>結束了去年難堪的賽季後，大谷翔平本季重啟「二刀流」身分，並在投打兩端都有突出表現，天使官網記...</td>\n",
       "      <td>6710</td>\n",
       "      <td>2021-05-14 14:52</td>\n",
       "    </tr>\n",
       "    <tr>\n",
       "      <th>7</th>\n",
       "      <td>柯瑞打出生涯顛峰 勇士展開奇蹟之旅</td>\n",
       "      <td>最近七戰6勝1敗，過去18戰13勝5敗，排名西區第八金州勇士確定取得季後賽附加賽資格。勇士後...</td>\n",
       "      <td>6580</td>\n",
       "      <td>2021-05-14 07:00</td>\n",
       "    </tr>\n",
       "    <tr>\n",
       "      <th>8</th>\n",
       "      <td>中職／龍獅戰打到一半斷電 聯盟宣布比賽延期</td>\n",
       "      <td>今日台南球場統一獅隊與味全龍隊之戰，賽前即因分區限電關係，導致比賽延後至6點55分開打，賽前...</td>\n",
       "      <td>6463</td>\n",
       "      <td>2021-05-13 19:43</td>\n",
       "    </tr>\n",
       "    <tr>\n",
       "      <th>9</th>\n",
       "      <td>NBA／轉正托斯卡諾安德森 勇士簽回小裴頓完成滿編</td>\n",
       "      <td>日前《The Athletic》記者查拉尼亞（Shams Charania）透露，勇士計畫轉...</td>\n",
       "      <td>6345</td>\n",
       "      <td>2021-05-14 10:13</td>\n",
       "    </tr>\n",
       "    <tr>\n",
       "      <th>10</th>\n",
       "      <td>中職／王柏融火力大爆發 曾豪駒：修正軌跡出棒直接</td>\n",
       "      <td>日本火腿隊台將王柏融打擊超熱，樂天桃猿隊的老隊友也都很關心，總教練曾豪駒表示，看得出來王柏融...</td>\n",
       "      <td>6077</td>\n",
       "      <td>2021-05-13 17:45</td>\n",
       "    </tr>\n",
       "    <tr>\n",
       "      <th>11</th>\n",
       "      <td>中職／疫情衝擊尋找新洋將 曾豪駒希望日職姐妹隊推薦</td>\n",
       "      <td>國內疫情升級，可能衝擊中職各隊再找新洋將，樂天桃猿隊總教練曾豪駒坦言，將會變得更難找，球隊和...</td>\n",
       "      <td>5084</td>\n",
       "      <td>2021-05-13 19:10</td>\n",
       "    </tr>\n",
       "    <tr>\n",
       "      <th>12</th>\n",
       "      <td>中職／兄弟大物余謙第2場先發 奪勝將改寫中職紀錄</td>\n",
       "      <td>中信兄弟隊菜鳥投手余謙在生涯初先發登板即拿下勝投，改寫中職最年輕紀錄，今晚先發出戰味全龍隊，...</td>\n",
       "      <td>5037</td>\n",
       "      <td>2021-05-14 10:49</td>\n",
       "    </tr>\n",
       "    <tr>\n",
       "      <th>13</th>\n",
       "      <td>中職／統一獅戰味全龍卻遇大停電 蘇泰安無奈：曾向聯盟反映</td>\n",
       "      <td>今天中華職棒統一獅與味全龍之戰在台南棒球場舉行，結果比賽不到20分鐘卻遇上大停電，賽事只好被...</td>\n",
       "      <td>4933</td>\n",
       "      <td>2021-05-13 20:10</td>\n",
       "    </tr>\n",
       "    <tr>\n",
       "      <th>14</th>\n",
       "      <td>MLB／接種疫苗洋基還8人中鏢！托瑞斯確診 大聯盟要查</td>\n",
       "      <td>近期走出谷底的洋基，戰績正當起飛之時，今(14)日卻傳出當家游擊手托瑞斯（Gleyber T...</td>\n",
       "      <td>4897</td>\n",
       "      <td>2021-05-14 11:46</td>\n",
       "    </tr>\n",
       "    <tr>\n",
       "      <th>15</th>\n",
       "      <td>NBA／熱火宰安比德歸隊76人 海斯倫首秀3分鐘遭驅逐</td>\n",
       "      <td>安比德（Joel Embiid）今（14）日雖歸隊，卻沒有當上76人與熱火的主角，風頭反倒被...</td>\n",
       "      <td>4855</td>\n",
       "      <td>2021-05-14 11:14</td>\n",
       "    </tr>\n",
       "    <tr>\n",
       "      <th>16</th>\n",
       "      <td>巴特勒重啟神級模式 熱火跳出傷兵漩渦再扮大黑馬</td>\n",
       "      <td>上賽季一路跌破外界眼鏡闖進總冠軍賽的邁阿密熱火，本季卻輪流遭遇傷兵潮，以及受疫情的健康協議影...</td>\n",
       "      <td>4043</td>\n",
       "      <td>2021-05-14 07:00</td>\n",
       "    </tr>\n",
       "    <tr>\n",
       "      <th>17</th>\n",
       "      <td>中職／龍獅戰因斷電腰斬 蔡其昌坦承錯誤「責無旁貸」</td>\n",
       "      <td>昨日在台南棒球場的統一獅隊與中信兄弟隊之戰，因電力不穩，賽前發生首次斷電，兩隊建議延賽，聯盟...</td>\n",
       "      <td>3940</td>\n",
       "      <td>2021-05-14 12:40</td>\n",
       "    </tr>\n",
       "    <tr>\n",
       "      <th>18</th>\n",
       "      <td>NBA／里拉德猛轟41分作白工 布克致勝罰球率太陽逆轉</td>\n",
       "      <td>太陽與拓荒者都正在處於激烈的季後賽種子卡位戰，前者還有一絲機會追上爵士登頂西區，後者則與獨行...</td>\n",
       "      <td>3857</td>\n",
       "      <td>2021-05-14 14:41</td>\n",
       "    </tr>\n",
       "    <tr>\n",
       "      <th>19</th>\n",
       "      <td>NBA／灰熊驚險逆轉拿下國王 與勇士爭第8精彩可期</td>\n",
       "      <td>灰熊目前戰績緊咬勇士，在西區加賽卡位戰中要搶第8位子，這攸關球隊是輸一場就遭淘汰，還是有2次...</td>\n",
       "      <td>3609</td>\n",
       "      <td>2021-05-14 12:59</td>\n",
       "    </tr>\n",
       "  </tbody>\n",
       "</table>\n",
       "</div>"
      ],
      "text/plain": [
       "                              標題  \\\n",
       "0       日職／陳俊秀要日本投手小心 王柏融打出來就很危險   \n",
       "1      再會了普荷斯！大聯盟神獸默默退役下場猶如中職張泰山   \n",
       "2          NBA／得分王幾乎到手 柯瑞有「魔術數字」   \n",
       "3      中職／獅隊瘋狂59盜獨走 曾豪駒推算9棒有7個可跑   \n",
       "4   日職／最強金牌王vs.軟銀雙冠王 日媒將王柏融列觀賽重點   \n",
       "5         中職／悍將近6戰苦吞5敗 快被墊底龍隊逼近了   \n",
       "6    MLB／大谷翔平創多項超狂里程碑 美媒驚嘆「前所未見」   \n",
       "7              柯瑞打出生涯顛峰 勇士展開奇蹟之旅   \n",
       "8          中職／龍獅戰打到一半斷電 聯盟宣布比賽延期   \n",
       "9      NBA／轉正托斯卡諾安德森 勇士簽回小裴頓完成滿編   \n",
       "10      中職／王柏融火力大爆發 曾豪駒：修正軌跡出棒直接   \n",
       "11     中職／疫情衝擊尋找新洋將 曾豪駒希望日職姐妹隊推薦   \n",
       "12      中職／兄弟大物余謙第2場先發 奪勝將改寫中職紀錄   \n",
       "13  中職／統一獅戰味全龍卻遇大停電 蘇泰安無奈：曾向聯盟反映   \n",
       "14   MLB／接種疫苗洋基還8人中鏢！托瑞斯確診 大聯盟要查   \n",
       "15   NBA／熱火宰安比德歸隊76人 海斯倫首秀3分鐘遭驅逐   \n",
       "16       巴特勒重啟神級模式 熱火跳出傷兵漩渦再扮大黑馬   \n",
       "17     中職／龍獅戰因斷電腰斬 蔡其昌坦承錯誤「責無旁貸」   \n",
       "18   NBA／里拉德猛轟41分作白工 布克致勝罰球率太陽逆轉   \n",
       "19     NBA／灰熊驚險逆轉拿下國王 與勇士爭第8精彩可期   \n",
       "\n",
       "                                                   摘要    觀看數                時間  \n",
       "0   旅日好手王柏融登上一軍大爆發，目前出賽8場，22個打數揮出10支安打，包括1支全壘打、6支二...  22009  2021-05-13 17:21  \n",
       "1   千禧世代的超級強打普荷斯(Albert Pujols)退役了！\\r\\n\\r\\n\\r\\n有別於...  16664  2021-05-14 07:00  \n",
       "2   巫師隊明星後衛比爾（Bradley Beal）和勇士隊當家球星柯瑞（Stephen Curr...  14355  2021-05-13 17:29  \n",
       "3   統一獅隊開季至今瘋狂盜壘，40場比賽出現59盜，在中職5隊遙遙領先，樂天桃猿隊足足落後35盜...  14084  2021-05-13 18:37  \n",
       "4   處於合約最後1年的日本火腿隊台灣好手王柏融，本季迎來打擊大爆發，打擊率至今仍保持「4割」的4...   7585  2021-05-14 12:36  \n",
       "5   樂天桃猿隊今天繼續在桃園球場對決富邦悍將隊，7局下靠林立、陳晨威兩支關鍵安打攻下3分，終場7...   7192  2021-05-13 22:02  \n",
       "6   結束了去年難堪的賽季後，大谷翔平本季重啟「二刀流」身分，並在投打兩端都有突出表現，天使官網記...   6710  2021-05-14 14:52  \n",
       "7   最近七戰6勝1敗，過去18戰13勝5敗，排名西區第八金州勇士確定取得季後賽附加賽資格。勇士後...   6580  2021-05-14 07:00  \n",
       "8   今日台南球場統一獅隊與味全龍隊之戰，賽前即因分區限電關係，導致比賽延後至6點55分開打，賽前...   6463  2021-05-13 19:43  \n",
       "9   日前《The Athletic》記者查拉尼亞（Shams Charania）透露，勇士計畫轉...   6345  2021-05-14 10:13  \n",
       "10  日本火腿隊台將王柏融打擊超熱，樂天桃猿隊的老隊友也都很關心，總教練曾豪駒表示，看得出來王柏融...   6077  2021-05-13 17:45  \n",
       "11  國內疫情升級，可能衝擊中職各隊再找新洋將，樂天桃猿隊總教練曾豪駒坦言，將會變得更難找，球隊和...   5084  2021-05-13 19:10  \n",
       "12  中信兄弟隊菜鳥投手余謙在生涯初先發登板即拿下勝投，改寫中職最年輕紀錄，今晚先發出戰味全龍隊，...   5037  2021-05-14 10:49  \n",
       "13  今天中華職棒統一獅與味全龍之戰在台南棒球場舉行，結果比賽不到20分鐘卻遇上大停電，賽事只好被...   4933  2021-05-13 20:10  \n",
       "14  近期走出谷底的洋基，戰績正當起飛之時，今(14)日卻傳出當家游擊手托瑞斯（Gleyber T...   4897  2021-05-14 11:46  \n",
       "15  安比德（Joel Embiid）今（14）日雖歸隊，卻沒有當上76人與熱火的主角，風頭反倒被...   4855  2021-05-14 11:14  \n",
       "16  上賽季一路跌破外界眼鏡闖進總冠軍賽的邁阿密熱火，本季卻輪流遭遇傷兵潮，以及受疫情的健康協議影...   4043  2021-05-14 07:00  \n",
       "17  昨日在台南棒球場的統一獅隊與中信兄弟隊之戰，因電力不穩，賽前發生首次斷電，兩隊建議延賽，聯盟...   3940  2021-05-14 12:40  \n",
       "18  太陽與拓荒者都正在處於激烈的季後賽種子卡位戰，前者還有一絲機會追上爵士登頂西區，後者則與獨行...   3857  2021-05-14 14:41  \n",
       "19  灰熊目前戰績緊咬勇士，在西區加賽卡位戰中要搶第8位子，這攸關球隊是輸一場就遭淘汰，還是有2次...   3609  2021-05-14 12:59  "
      ]
     },
     "execution_count": 39,
     "metadata": {},
     "output_type": "execute_result"
    }
   ],
   "source": [
    "datas\n"
   ]
  },
  {
   "cell_type": "code",
   "execution_count": 40,
   "metadata": {},
   "outputs": [
    {
     "data": {
      "text/plain": [
       "pandas.core.frame.DataFrame"
      ]
     },
     "execution_count": 40,
     "metadata": {},
     "output_type": "execute_result"
    }
   ],
   "source": [
    "type(datas)"
   ]
  },
  {
   "cell_type": "code",
   "execution_count": 41,
   "metadata": {
    "scrolled": true
   },
   "outputs": [
    {
     "name": "stdout",
     "output_type": "stream",
     "text": [
      "05-14[05-20]PM\n"
     ]
    }
   ],
   "source": [
    "localtime = time.localtime()\n",
    "result = time.strftime(\"%m-%d[%I-%M]%p\", localtime)\n",
    "print(result)\n",
    "f = open(\"varieable.txt\", mode='r')\n",
    "word = f.read()\n"
   ]
  },
  {
   "cell_type": "code",
   "execution_count": 42,
   "metadata": {},
   "outputs": [
    {
     "data": {
      "text/plain": [
       "str"
      ]
     },
     "execution_count": 42,
     "metadata": {},
     "output_type": "execute_result"
    }
   ],
   "source": [
    "type(word)"
   ]
  },
  {
   "cell_type": "markdown",
   "metadata": {},
   "source": [
    "### <font><font color=\"#2894FF\">存成excel</font>"
   ]
  },
  {
   "cell_type": "code",
   "execution_count": 43,
   "metadata": {},
   "outputs": [],
   "source": [
    "#存成excel\n",
    "datas.to_csv('運動'+word+'.csv',encoding = \"utf-8-sig\")\n",
    "f.close()\n",
    "f2 = open(\"varieable.txt\", mode='w')\n",
    "word2 = int(word) + 1\n",
    "f2.write(str(word2))\n",
    "f2.close()"
   ]
  }
 ],
 "metadata": {
  "kernelspec": {
   "display_name": "Python 3",
   "language": "python",
   "name": "python3"
  },
  "language_info": {
   "codemirror_mode": {
    "name": "ipython",
    "version": 3
   },
   "file_extension": ".py",
   "mimetype": "text/x-python",
   "name": "python",
   "nbconvert_exporter": "python",
   "pygments_lexer": "ipython3",
   "version": "3.7.3"
  }
 },
 "nbformat": 4,
 "nbformat_minor": 2
}
